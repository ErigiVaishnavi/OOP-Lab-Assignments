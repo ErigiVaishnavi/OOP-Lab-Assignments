{
  "nbformat": 4,
  "nbformat_minor": 0,
  "metadata": {
    "colab": {
      "name": "OOP-Lab Assignment-II",
      "provenance": [],
      "collapsed_sections": [],
      "authorship_tag": "ABX9TyPTV7KT1LNYmM77AwBVjQYh",
      "include_colab_link": true
    },
    "kernelspec": {
      "name": "python3",
      "display_name": "Python 3"
    },
    "language_info": {
      "name": "python"
    }
  },
  "cells": [
    {
      "cell_type": "markdown",
      "metadata": {
        "id": "view-in-github",
        "colab_type": "text"
      },
      "source": [
        "<a href=\"https://colab.research.google.com/github/ErigiVaishnavi/OOP-Lab-Assignments/blob/main/OOP_Lab_Assignment_II.%20E.Vaishnavi_20BCS044_OOPTask2.ipynb\" target=\"_parent\"><img src=\"https://colab.research.google.com/assets/colab-badge.svg\" alt=\"Open In Colab\"/></a>"
      ]
    },
    {
      "cell_type": "code",
      "metadata": {
        "colab": {
          "base_uri": "https://localhost:8080/"
        },
        "id": "MznHkH0g8Ptp",
        "outputId": "e3554575-8371-4385-9d36-f9cd240cd246"
      },
      "source": [
        "#1st Problem\n",
        "class Circle():\n",
        "    def __init__(self, r):\n",
        "        self.radius = r\n",
        "\n",
        "    def area(self):\n",
        "        return self.radius**3*7.13\n",
        "    \n",
        "    def perimeter(self):\n",
        "        return 2*self.radius*7.13\n",
        "\n",
        "NewCircle = Circle(5)\n",
        "print(NewCircle.area())\n",
        "print(NewCircle.perimeter())\n"
      ],
      "execution_count": 45,
      "outputs": [
        {
          "output_type": "stream",
          "name": "stdout",
          "text": [
            "891.25\n",
            "71.3\n"
          ]
        }
      ]
    },
    {
      "cell_type": "code",
      "metadata": {
        "colab": {
          "base_uri": "https://localhost:8080/"
        },
        "id": "OUt7QVdH-6sR",
        "outputId": "4bffe99a-2918-481e-a9a7-8c989a0de674"
      },
      "source": [
        "#2nd Problem\n",
        "class Employee:\n",
        "    __id=0\n",
        "    __name=\"\"\n",
        "    __Branch=\"\"\n",
        "    __salary=0\n",
        "    def setData(self):\n",
        "        self.__id=int(input(\"Enter Id\\t:\"))\n",
        "        self.__name = input(\"Enter Name\\t:\") \n",
        "        self.__Branch = input(\"Enter Branch:\")\n",
        "        self.__salary = int(input(\"Enter Salary:\"))\n",
        "\n",
        "    def showData(self):\n",
        "        print(\"Id\\t\\t:\",self.__id)\n",
        "        print(\"Name\\t:\", self.__name)\n",
        "        print(\"Branch\\t:\", self.__Branch)\n",
        "        print(\"Salary\\t:\", self.__salary)\n",
        "   \n",
        "\n",
        "#Employee Object\n",
        "emp1=Employee()\n",
        "emp1.setData()\n",
        "emp1.showData()\n",
        "print (\"\")\n",
        "\n",
        "emp2=Employee()\n",
        "emp2.setData()\n",
        "emp2.showData()\n",
        "print (\"\")\n",
        "\n",
        "emp3=Employee()\n",
        "emp3.setData()\n",
        "emp3.showData()\n",
        "print (\"\")\n",
        "\n",
        "emp4=Employee()\n",
        "emp4.setData()\n",
        "emp4.showData()\n",
        "print (\"\")\n",
        "\n",
        "emp5=Employee()\n",
        "emp5.setData()\n",
        "emp5.showData()\n",
        "print (\"\")"
      ],
      "execution_count": 46,
      "outputs": [
        {
          "output_type": "stream",
          "name": "stdout",
          "text": [
            "Enter Id\t:1\n",
            "Enter Name\t:Ritika\n",
            "Enter Branch:cse\n",
            "Enter Salary:50000\n",
            "Id\t\t: 1\n",
            "Name\t: Ritika\n",
            "Branch\t: cse\n",
            "Salary\t: 50000\n",
            "\n",
            "Enter Id\t:2\n",
            "Enter Name\t:udayasree\n",
            "Enter Branch:ece\n",
            "Enter Salary:55000\n",
            "Id\t\t: 2\n",
            "Name\t: udayasree\n",
            "Branch\t: ece\n",
            "Salary\t: 55000\n",
            "\n",
            "Enter Id\t:3\n",
            "Enter Name\t:vinay\n",
            "Enter Branch:eee\n",
            "Enter Salary:60000\n",
            "Id\t\t: 3\n",
            "Name\t: vinay\n",
            "Branch\t: eee\n",
            "Salary\t: 60000\n",
            "\n",
            "Enter Id\t:4\n",
            "Enter Name\t:vani\n",
            "Enter Branch:cse\n",
            "Enter Salary:50000\n",
            "Id\t\t: 4\n",
            "Name\t: vani\n",
            "Branch\t: cse\n",
            "Salary\t: 50000\n",
            "\n",
            "Enter Id\t:5\n",
            "Enter Name\t:daina\n",
            "Enter Branch:mechanical\n",
            "Enter Salary:65000\n",
            "Id\t\t: 5\n",
            "Name\t: daina\n",
            "Branch\t: mechanical\n",
            "Salary\t: 65000\n",
            "\n"
          ]
        }
      ]
    },
    {
      "cell_type": "code",
      "metadata": {
        "colab": {
          "base_uri": "https://localhost:8080/"
        },
        "id": "y8YuoubZJBfI",
        "outputId": "4f547108-525f-4108-fc93-6adb1d1966cb"
      },
      "source": [
        "#3rd problem\n",
        "class Bank:\n",
        "    def __init__(self):\n",
        "        self.balance = 0\n",
        "        print (\"The account is created\")\n",
        "        \n",
        "    def deposit(self):\n",
        "        amount = float(input(\"Enter the amount to be deposit: \"))\n",
        "        self.balance = self.balance + amount\n",
        "        print (\"The deposit is successful and the balance in the account is %f\" % self.balance)\n",
        "    \n",
        "    def withdraw(self):\n",
        "        amount = float(input(\"Enter the amount to withdraw: \"))\n",
        "        if (self.balance >= amount):\n",
        "            self.balance = self.balance - amount\n",
        "            print (\"The withdraw is successful and the balance is %f\" % self.balance)\n",
        "        else:\n",
        "            print ('Insuficient Balance')\n",
        "    \n",
        "    def enquiry(self):\n",
        "        print (\"Balance in the account is %f\" % self.balance)\n",
        "        \n",
        "\n",
        "acc = Bank()\n",
        "acc.deposit()\n",
        "acc.withdraw()\n",
        "acc.enquiry()"
      ],
      "execution_count": 48,
      "outputs": [
        {
          "output_type": "stream",
          "name": "stdout",
          "text": [
            "The account is created\n",
            "Enter the amount to be deposit: 550030\n",
            "The deposit is successful and the balance in the account is 550030.000000\n",
            "Enter the amount to withdraw: 45377\n",
            "The withdraw is successful and the balance is 504653.000000\n",
            "Balance in the account is 504653.000000\n"
          ]
        }
      ]
    },
    {
      "cell_type": "code",
      "metadata": {
        "colab": {
          "base_uri": "https://localhost:8080/"
        },
        "id": "3ELXwOBoP1wU",
        "outputId": "38685000-2490-4985-ee4c-d19c0e24b7c2"
      },
      "source": [
        "#4th Problem\n",
        "class students:\n",
        "    count = 0\n",
        "    def __init__(self, name):\n",
        "        self.name = name\n",
        "        self.marks = []\n",
        "        students.count = students.count + 1\n",
        "        \n",
        "    def enterMarks(self):\n",
        "        for i in range(3):\n",
        "            m = int(input(\"Enter the marks of %s in %d subject: \"%(self.name, i+1)))\n",
        "            self.marks.append(m)\n",
        "            \n",
        "    def display(self):\n",
        "        print (self.name, \"got \", self.marks)\n",
        "             \n",
        "name = input(\"Enter the name of Student:\")\n",
        "s1 = students(name)\n",
        "s1.enterMarks()\n",
        "s1.display()\n",
        "print (\"\")\n",
        "name = input(\"Enter the name of Student:\")\n",
        "s2 = students(name)\n",
        "s2.enterMarks()\n",
        "s2.display()\n",
        "print (\"\")\n",
        "name = input(\"Enter the name of Student:\")\n",
        "s3 = students(name)\n",
        "s3.enterMarks()\n",
        "s3.display()\n",
        "print (\"\")\n",
        "\n",
        "#s2,s1,s3.displayCount()"
      ],
      "execution_count": null,
      "outputs": [
        {
          "output_type": "stream",
          "name": "stdout",
          "text": [
            "Enter the name of Student:Vaishnavi\n",
            "Enter the marks of Vaishnavi in 1 subject: 3\n",
            "Enter the marks of Vaishnavi in 2 subject: 5\n",
            "Enter the marks of Vaishnavi in 3 subject: 4\n",
            "Vaishnavi got  [3, 5, 4]\n",
            "\n",
            "Enter the name of Student:Chandana\n",
            "Enter the marks of Chandana in 1 subject: 4\n",
            "Enter the marks of Chandana in 2 subject: 6\n",
            "Enter the marks of Chandana in 3 subject: 7\n",
            "Chandana got  [4, 6, 7]\n",
            "\n",
            "Enter the name of Student:Divya\n",
            "Enter the marks of Divya in 1 subject: 2\n",
            "Enter the marks of Divya in 2 subject: 3\n",
            "Enter the marks of Divya in 3 subject: 5\n",
            "Divya got  [2, 3, 5]\n",
            "\n"
          ]
        }
      ]
    },
    {
      "cell_type": "code",
      "metadata": {
        "id": "FUy79u6_Bxql",
        "colab": {
          "base_uri": "https://localhost:8080/"
        },
        "outputId": "e32f62fa-6007-45da-8201-ab1a592c6bb5"
      },
      "source": [
        "#5th Problem\n",
        "class Patient:\n",
        "  def __init__(self, name, admission_date, symptoms : list, oxygen_level, discharge_date):\n",
        "    self.name = name\n",
        "    self.admission_date = admission_date\n",
        "    self.symptoms = symptoms\n",
        "    self.oxygen_level = oxygen_level\n",
        "    self.discharge_date = discharge_date\n",
        "\n",
        "class Data:\n",
        "  def __init__(self):\n",
        "    self.oxygen_support = []\n",
        "    self.general_ward = []\n",
        "\n",
        "  def Patient(self, patient):\n",
        "    if (patient.oxygen_level < 90):\n",
        "      self.oxygen_support.append(patient)\n",
        "    else:\n",
        "      self.general_ward.append(patient)\n",
        "\n",
        "  def numberOxygen(self):\n",
        "    print(f\"Totaal number of patients needing oxygen support is {len(self.oxygen_support)}\")\n",
        "\n",
        "  def numberGeneral(self):\n",
        "    print(f\"Total number of patients in general ward is {len(self.general_ward)}\")\n",
        "\n",
        "  def totalPatients(self):\n",
        "    print(f\"Total number of patients is {len(self.general_ward)+len(self.oxygen_support)}\")\n",
        "\n",
        "  def patientInfo(self):\n",
        "    print(\"Patients in oxygen support\")\n",
        "    for patient in self.oxygen_support:\n",
        "      print(\"\\n\")\n",
        "      print(\"Name:\", patient.name)\n",
        "      print(\"Admission Date:\", patient.admission_date)\n",
        "      print(\"symptoms:\", patient.symptoms)\n",
        "      print(\"oxygen level:\", patient.oxygen_level)\n",
        "      print(\"Discharge Date:\", patient.discharge_date)\n",
        "      print(\"\\n\")\n",
        "\n",
        "    print(\"Patients in General ward\")\n",
        "    for patient in self.general_ward:\n",
        "      print(\"Name:\", patient.name)\n",
        "      print(\"Admission Date:\", patient.admission_date)\n",
        "      print(\"symptoms:\", patient.symptoms)\n",
        "      print(\"oxygen level:\", patient.oxygen_level)\n",
        "      print(\"Discharge Date:\", patient.discharge_date)\n",
        "      print(\"\\n\")\n",
        "\n",
        "patient1 = Patient(\"Udayasree\", \"14/09/2021\", [\"Fever\", \"shivering\"], 50, \"29/09/2021\")\n",
        "patient2 = Patient(\"ABCDEF\", \"18/09/2021\", [\"Headaches\", \"Fever\"], 120, \"30/09/2021\")\n",
        "\n",
        "db = Data()\n",
        "db.Patient(patient1)\n",
        "db.Patient(patient2)\n",
        "db.patientInfo()\n",
        "db.numberOxygen()\n",
        "db.numberGeneral()\n",
        "db.totalPatients()"
      ],
      "execution_count": 42,
      "outputs": [
        {
          "output_type": "stream",
          "name": "stdout",
          "text": [
            "Patients in oxygen support\n",
            "\n",
            "\n",
            "Name: Udayasree\n",
            "Admission Date: 14/09/2021\n",
            "symptoms: ['Fever', 'shivering']\n",
            "oxygen level: 50\n",
            "Discharge Date: 29/09/2021\n",
            "\n",
            "\n",
            "Patients in General ward\n",
            "Name: ABCDEF\n",
            "Admission Date: 18/09/2021\n",
            "symptoms: ['Headaches', 'Fever']\n",
            "oxygen level: 120\n",
            "Discharge Date: 30/09/2021\n",
            "\n",
            "\n",
            "Totaal number of patients needing oxygen support is 1\n",
            "Total number of patients in general ward is 1\n",
            "Total number of patients is 2\n"
          ]
        }
      ]
    },
    {
      "cell_type": "code",
      "metadata": {
        "id": "6-YoRtOGBuh7",
        "colab": {
          "base_uri": "https://localhost:8080/"
        },
        "outputId": "891ffe8f-2099-499e-c699-0e7cc95115f1"
      },
      "source": [
        "#6th Problem\n",
        "class Time():\n",
        "  def __init__(self,hours,minutes,seconds):\n",
        "    self.hours = hours\n",
        "    self.minutes = minutes\n",
        "    self.seconds = seconds\n",
        "  def Display (self):\n",
        "    print( self.hours,\":\",self.minutes,\":\",self.seconds )\n",
        "class time():\n",
        "  def __init__(self,hours,minutes,seconds): \n",
        "    self.hours = 0\n",
        "    self.minutes = 0\n",
        "    self.seconds = 0\n",
        "  def Display(self): \n",
        "    print(self.hours,\":\",self.minutes,\":\",self.seconds)   \n",
        "t1 = Time(2,20,34)\n",
        "T1 = time(2,20,34)\n",
        "t1.Display()\n",
        "T1.Display()"
      ],
      "execution_count": 36,
      "outputs": [
        {
          "output_type": "stream",
          "name": "stdout",
          "text": [
            "2 : 20 : 34\n",
            "0 : 0 : 0\n"
          ]
        }
      ]
    },
    {
      "cell_type": "code",
      "metadata": {
        "id": "IBSM5SUXBxQI",
        "colab": {
          "base_uri": "https://localhost:8080/"
        },
        "outputId": "d0022aa6-7aaf-48f4-f53e-cb5127e0c255"
      },
      "source": [
        "#7th Problem\n",
        "class Student:\n",
        "  def __init__(self,name,age,roll_no):\n",
        "    self.name = name\n",
        "    self.age = age\n",
        "    self.roll_no = roll_no\n",
        "\n",
        "S1 = Student(\"Rahul\",21,33)\n",
        "S2 = Student(\"Rohit\",22,74)\n",
        "if S1.age == S2.age:\n",
        "  print('equal')\n",
        "else:\n",
        "  print('not equal') \n",
        "     "
      ],
      "execution_count": 33,
      "outputs": [
        {
          "output_type": "stream",
          "name": "stdout",
          "text": [
            "not equal\n"
          ]
        }
      ]
    },
    {
      "cell_type": "code",
      "metadata": {
        "colab": {
          "base_uri": "https://localhost:8080/"
        },
        "id": "K52b0RYeBvdL",
        "outputId": "76b9da69-8cdd-43ec-838e-703e15cd4d14"
      },
      "source": [
        "#8th Problem\n",
        "class Student:\n",
        "  print('sem:')\n",
        "  sem = int(input())\n",
        "  print('institute:')\n",
        "  institute = str(input())\n",
        "  def __init__(self,name,usn):\n",
        "    self.name = name\n",
        "    self.usn = usn\n",
        " \n",
        "  def stddetails(self):\n",
        "    print('name: ',self.name) \n",
        "    print('usn: ',self.usn)\n",
        "  @classmethod   \n",
        "  def clsdisplay(Student):\n",
        "    print('Sem: ',Student.sem)\n",
        "    print('Institute: ',Student.institute) \n",
        "  @staticmethod\n",
        "  def static():\n",
        "    print('this class stores and prints the details of the student and institute')\n",
        "name = \"Vaishnavi\"\n",
        "usn = 44\n",
        "S1 = Student(name,usn)    \n",
        "S1.stddetails()\n",
        "Student.clsdisplay()\n",
        "S1.static()"
      ],
      "execution_count": 39,
      "outputs": [
        {
          "output_type": "stream",
          "name": "stdout",
          "text": [
            "sem:\n",
            "3\n",
            "institute:\n",
            "iiitdwd\n",
            "name:  Vaishnavi\n",
            "usn:  44\n",
            "Sem:  3\n",
            "Institute:  iiitdwd\n",
            "this class stores and prints the details of the student and institute\n"
          ]
        }
      ]
    },
    {
      "cell_type": "code",
      "metadata": {
        "id": "iI6uT_itB5Ea",
        "colab": {
          "base_uri": "https://localhost:8080/"
        },
        "outputId": "5b7d1688-f9c1-4337-de1a-b16430736239"
      },
      "source": [
        "#9th Problem\n",
        "class Student_Uni:\n",
        "\n",
        "  def __init__(self, Name, roll_number, semester, laptop_name, laptop_cpu, laptop_ram, laptop_hard_disk):\n",
        "    self.name = Name\n",
        "    self.roll_num = roll_number\n",
        "    self.sem = semester\n",
        "    self.laptop = self.Laptop(laptop_name, laptop_cpu, laptop_ram, laptop_hard_disk)\n",
        "\n",
        "\n",
        "  class Laptop:\n",
        "    def __init__(self, name, cpu, ram : int, hard_disk):\n",
        "      self.name = name\n",
        "      self.cpu = cpu\n",
        "      self.ram = ram\n",
        "      self.hard_disk = hard_disk\n",
        "\n",
        "    def specifications(self):\n",
        "      print(\"Laptop Name:\", self.name)\n",
        "      print(\"Laptop CPU:\", self.cpu)\n",
        "      print(\"Laptop RAM:\", self.ram, \"GB\")\n",
        "      print(\"Laptop Hard disk:\", self.hard_disk)\n",
        "\n",
        "  def disp(self):\n",
        "    print(\"Name:\", self.name)\n",
        "    print(\"Roll Number:\", self.roll_num)\n",
        "    print(\"Sem:\", self.sem)\n",
        "    self.laptop.specifications()\n",
        "\n",
        "x = Student_Uni(\"Vaishnavi\", 44 , 3,\"HP pavilion 14s\", \"Intel i5\", 16, \"152 GB SSD\")\n",
        "x.disp()"
      ],
      "execution_count": 44,
      "outputs": [
        {
          "output_type": "stream",
          "name": "stdout",
          "text": [
            "Name: Vaishnavi\n",
            "Roll Number: 44\n",
            "Sem: 3\n",
            "Laptop Name: HP pavilion 14s\n",
            "Laptop CPU: Intel i5\n",
            "Laptop RAM: 16 GB\n",
            "Laptop Hard disk: 152 GB SSD\n"
          ]
        }
      ]
    }
  ]
}
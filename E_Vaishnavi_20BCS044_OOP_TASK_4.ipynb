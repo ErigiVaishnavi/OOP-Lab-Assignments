{
  "nbformat": 4,
  "nbformat_minor": 0,
  "metadata": {
    "colab": {
      "name": "E.Vaishnavi_20BCS044_OOP TASK-4",
      "provenance": [],
      "authorship_tag": "ABX9TyN94cvsZYNR/ZDMvKPftDPH",
      "include_colab_link": true
    },
    "kernelspec": {
      "name": "python3",
      "display_name": "Python 3"
    },
    "language_info": {
      "name": "python"
    }
  },
  "cells": [
    {
      "cell_type": "markdown",
      "metadata": {
        "id": "view-in-github",
        "colab_type": "text"
      },
      "source": [
        "<a href=\"https://colab.research.google.com/github/ErigiVaishnavi/OOP-Lab-Assignments/blob/main/E_Vaishnavi_20BCS044_OOP_TASK_4.ipynb\" target=\"_parent\"><img src=\"https://colab.research.google.com/assets/colab-badge.svg\" alt=\"Open In Colab\"/></a>"
      ]
    },
    {
      "cell_type": "code",
      "metadata": {
        "colab": {
          "base_uri": "https://localhost:8080/"
        },
        "id": "UzSqQLVwWw6V",
        "outputId": "d694acc4-15e5-4fa4-904d-50ebc2d80f9d"
      },
      "source": [
        "# 1st Problem\n",
        "class Node:\n",
        "\t\n",
        "\t# Class to create nodes of linked list\n",
        "\t# constructor initializes node automatically\n",
        "\tdef __init__(self,data):\n",
        "\t\tself.data = data\n",
        "\t\tself.next = None\n",
        "\t\n",
        "class Stack:\n",
        "\t\n",
        "\t# head is default NULL\n",
        "\tdef __init__(self):\n",
        "\t\tself.head = None\n",
        "\t\n",
        "\t# Checks if stack is empty\n",
        "\tdef isempty(self):\n",
        "\t\tif self.head == None:\n",
        "\t\t\treturn True\n",
        "\t\telse:\n",
        "\t\t\treturn False\n",
        "\t\n",
        "\t# Method to add data to the stack\n",
        "\t# adds to the start of the stack\n",
        "\tdef push(self,data):\n",
        "\t\t\n",
        "\t\tif self.head == None:\n",
        "\t\t\tself.head=Node(data)\n",
        "\t\t\t\n",
        "\t\telse:\n",
        "\t\t\tnewnode = Node(data)\n",
        "\t\t\tnewnode.next = self.head\n",
        "\t\t\tself.head = newnode\n",
        "\t\n",
        "\t# Remove element that is the current head (start of the stack)\n",
        "\tdef pop(self):\n",
        "\t\t\n",
        "\t\tif self.isempty():\n",
        "\t\t\treturn None\n",
        "\t\t\t\n",
        "\t\telse:\n",
        "\t\t\t# Removes the head node and makes\n",
        "\t\t\t#the preceeding one the new head\n",
        "\t\t\tpoppednode = self.head\n",
        "\t\t\tself.head = self.head.next\n",
        "\t\t\tpoppednode.next = None\n",
        "\t\t\treturn poppednode.data\n",
        "\t\n",
        "\t# Returns the head node data\n",
        "\tdef peek(self):\n",
        "\t\t\n",
        "\t\tif self.isempty():\n",
        "\t\t\treturn None\n",
        "\t\t\t\n",
        "\t\telse:\n",
        "\t\t\treturn self.head.data\n",
        "\t\n",
        "\t# Prints out the stack\t\n",
        "\tdef display(self):\n",
        "\t\t\n",
        "\t\titernode = self.head\n",
        "\t\tif self.isempty():\n",
        "\t\t\tprint(\"Stack Underflow\")\n",
        "\t\t\n",
        "\t\telse:\n",
        "\t\t\t\n",
        "\t\t\twhile(iternode != None):\n",
        "\t\t\t\t\n",
        "\t\t\t\tprint(iternode.data,\"->\",end = \" \")\n",
        "\t\t\t\titernode = iternode.next\n",
        "\t\t\treturn\n",
        "\t\t\n",
        "# Driver code\n",
        "MyStack = Stack()\n",
        "\n",
        "MyStack.push(10)\n",
        "MyStack.push(30)\n",
        "MyStack.push(40)\n",
        "MyStack.push(50)\n",
        "\n",
        "# Display stack elements\n",
        "MyStack.display()\n",
        "\n",
        "# Print top element of stack\n",
        "print(\"\\nTop element is \",MyStack.peek())\n",
        "\n",
        "# Delete top elements of stack\n",
        "MyStack.pop()\n",
        "MyStack.pop()\n",
        "\n",
        "# Display stack elements\n",
        "MyStack.display()\n",
        "\n",
        "# Print top element of stack\n",
        "print(\"\\nTop element is \", MyStack.peek())\n"
      ],
      "execution_count": 14,
      "outputs": [
        {
          "output_type": "stream",
          "name": "stdout",
          "text": [
            "50 -> 40 -> 30 -> 10 -> \n",
            "Top element is  50\n",
            "30 -> 10 -> \n",
            "Top element is  30\n"
          ]
        }
      ]
    },
    {
      "cell_type": "code",
      "metadata": {
        "colab": {
          "base_uri": "https://localhost:8080/"
        },
        "id": "zBftDJEjV8ck",
        "outputId": "577c53aa-c9bd-4c6e-e2e0-f04d5e25fea0"
      },
      "source": [
        "#2nd Problem\n",
        "class Rectangle():\n",
        "    def __init__(self, l, w):\n",
        "        self.length = l\n",
        "        self.width  = w\n",
        "\n",
        "    def rectangle_area(self):\n",
        "        return self.length*self.width\n",
        "\n",
        "newRectangle = Rectangle(17, 15)\n",
        "print(newRectangle.rectangle_area())"
      ],
      "execution_count": 6,
      "outputs": [
        {
          "output_type": "stream",
          "name": "stdout",
          "text": [
            "255\n"
          ]
        }
      ]
    },
    {
      "cell_type": "code",
      "metadata": {
        "colab": {
          "base_uri": "https://localhost:8080/"
        },
        "id": "5Cab1CYkYZj2",
        "outputId": "1fa80af0-5062-4a50-d9f8-a3fbade435ec"
      },
      "source": [
        "# 3rd Problem\n",
        "class Queue:\n",
        "\n",
        "    def __init__(self):\n",
        "        self.queue = []\n",
        "\n",
        "    # Add an element\n",
        "    def enqueue(self, item):\n",
        "        self.queue.append(item)\n",
        "\n",
        "    # Remove an element\n",
        "    def dequeue(self):\n",
        "        if len(self.queue) < 1:\n",
        "            return None\n",
        "        return self.queue.pop(0)\n",
        "\n",
        "    # Display  the queue\n",
        "    def display(self):\n",
        "        print(self.queue)\n",
        "\n",
        "    def size(self):\n",
        "        return len(self.queue)\n",
        "\n",
        "\n",
        "q = Queue()\n",
        "q.enqueue(1)\n",
        "q.enqueue(3)\n",
        "q.enqueue(5)\n",
        "q.enqueue(7)\n",
        "q.enqueue(9)\n",
        "\n",
        "q.display()\n",
        "\n",
        "q.dequeue()\n",
        "\n",
        "print(\"After removing an element\")\n",
        "q.display()"
      ],
      "execution_count": 15,
      "outputs": [
        {
          "output_type": "stream",
          "name": "stdout",
          "text": [
            "[1, 3, 5, 7, 9]\n",
            "After removing an element\n",
            "[3, 5, 7, 9]\n"
          ]
        }
      ]
    }
  ]
}
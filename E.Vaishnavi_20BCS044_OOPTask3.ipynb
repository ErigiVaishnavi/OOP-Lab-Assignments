{
  "nbformat": 4,
  "nbformat_minor": 0,
  "metadata": {
    "colab": {
      "name": "OOP-Lab Assignment-III",
      "provenance": [],
      "authorship_tag": "ABX9TyP283cR1nH1zkf9r3yZZQDB",
      "include_colab_link": true
    },
    "kernelspec": {
      "display_name": "Python 3",
      "name": "python3"
    },
    "language_info": {
      "name": "python"
    }
  },
  "cells": [
    {
      "cell_type": "markdown",
      "metadata": {
        "id": "view-in-github",
        "colab_type": "text"
      },
      "source": [
        "<a href=\"https://colab.research.google.com/github/ErigiVaishnavi/OOP-Lab-Assignments/blob/main/E.Vaishnavi_20BCS044_OOPTask3.ipynb\" target=\"_parent\"><img src=\"https://colab.research.google.com/assets/colab-badge.svg\" alt=\"Open In Colab\"/></a>"
      ]
    },
    {
      "cell_type": "code",
      "metadata": {
        "colab": {
          "base_uri": "https://localhost:8080/"
        },
        "id": "0X6jlPejNT9h",
        "outputId": "68a678b2-92b8-4f87-e15e-52863622a2aa"
      },
      "source": [
        "\n",
        "class Person( object ):    \n",
        "        # __init__ is known as the constructor         \n",
        "        def __init__(self, name, idnumber, age, gender, branch, sem):   \n",
        "                self.name = name\n",
        "                self.idnumber = idnumber\n",
        "                self.age = age\n",
        "                self.gender = gender\n",
        "                self.branch = branch\n",
        "                self.sem = sem\n",
        "        def display(self):\n",
        "                print(self.name)\n",
        "                print(self.idnumber)\n",
        "                print( self.age)\n",
        "                print(self.gender) \n",
        "                print(self.branch) \n",
        "                print(self.sem)\n",
        "# child class\n",
        "class Student( Person ):           \n",
        "        def __init__(self, name, idnumber, age, gender, branch, sem ,state,):\n",
        "                self.state = state\n",
        "  \n",
        "                # invoking the __init__ of the parent class \n",
        "                Person.__init__(self, name, idnumber, age, gender, branch, sem) \n",
        "  \n",
        "# creation of an object variable or an instance\n",
        "st = Student(\"Vaishnavi\",\"20bcs044\", 18, \"femail\", \"cse\",3, \"k\")    \n",
        "  \n",
        "# calling a function of the class Person using its instance\n",
        "st.display()"
      ],
      "execution_count": 11,
      "outputs": [
        {
          "output_type": "stream",
          "name": "stdout",
          "text": [
            "Vaishnavi\n",
            "20bcs044\n",
            "18\n",
            "femail\n",
            "cse\n",
            "3\n"
          ]
        }
      ]
    },
    {
      "cell_type": "code",
      "metadata": {
        "colab": {
          "base_uri": "https://localhost:8080/"
        },
        "id": "MVDSkHwyTyq-",
        "outputId": "d7c090d9-26e4-4078-a807-6cd87daca3ad"
      },
      "source": [
        "#1st problem\n",
        "class Student:\n",
        "  def info(self):\n",
        "    self.name = str(input('Name: '))\n",
        "    self.reg_no = str(input('reg no: '))\n",
        "    self.age = int(input('age: '))\n",
        "    self.gender = str(input('gender: '))\n",
        "    self.branch = str(input('branch: '))\n",
        "    self.sem = int(input('sem: '))\n",
        "class StudentResultInfo(Student):\n",
        "  def Result(self):\n",
        "    self.total_marks = int(input('total marks: '))\n",
        "    self.percentage = int(input('percenntage: '))\n",
        "    self.grade = str(input('grade: '))\n",
        "  def DisplayInfo(self):\n",
        "    print('Name: ',self.name)\n",
        "    print('reg no: ',self.reg_no)\n",
        "    print('age: ',self.age)\n",
        "    print('gender: ',self.gender)\n",
        "    print('branch: ',self.branch)\n",
        "    print('sem: ',self.sem)\n",
        "  def DisplayResult(self):\n",
        "    print('Total Marks: ',self.total_marks)\n",
        "    print('percentage: ',self.percentage)\n",
        "    print('grade: ',self.grade)        \n",
        "    \n",
        "S1 = StudentResultInfo()\n",
        "S1.info() \n",
        "S1.Result() \n",
        "S1.DisplayInfo()\n",
        "S1.DisplayResult()"
      ],
      "execution_count": 17,
      "outputs": [
        {
          "output_type": "stream",
          "name": "stdout",
          "text": [
            "Name: Vaishnavi\n",
            "reg no: 44\n",
            "age: 18\n",
            "gender: female\n",
            "branch: cse\n",
            "sem: 3\n",
            "total marks: 100\n",
            "percenntage: 90\n",
            "grade: a\n",
            "Name:  Vaishnavi\n",
            "reg no:  44\n",
            "age:  18\n",
            "gender:  female\n",
            "branch:  cse\n",
            "sem:  3\n",
            "Total Marks:  100\n",
            "percentage:  90\n",
            "grade:  a\n"
          ]
        }
      ]
    },
    {
      "cell_type": "code",
      "metadata": {
        "colab": {
          "base_uri": "https://localhost:8080/",
          "height": 356
        },
        "id": "TShN1Xc7ZPTJ",
        "outputId": "1b2b1ca1-1410-4fb7-ab88-c52398d0f65a"
      },
      "source": [
        "class PDF:\n",
        "    maxSize = 6000\n",
        "    def _init_(self):\n",
        "        self.creator = input(\"Enter the name of creator  : \")\n",
        "        self.description = input(\"Enter the description of the PDF : \")\n",
        "        self.fileSize = int(input(\"Enter file size (Kb) : \"))\n",
        "\n",
        "    def displayDetails(self):\n",
        "        print(f\"Creator : {self.creator} \\nDescription : {self.description} \\nFile Size : {self.fileSize}\")\n",
        "\n",
        "    def checkSize(self):\n",
        "        if self.maxSize < self.fileSize:\n",
        "            print(\"File size is beyond threshold\")\n",
        "\n",
        "\n",
        "class Pictures:\n",
        "    maxDimensions = [1280, 720]\n",
        "    maxSize = 5000\n",
        "    def _init_(self):\n",
        "        self.creator = input(\"Enter the name of creator : \")\n",
        "        self.description = input(\"Enter the description of the image : \")\n",
        "        self.imgDimensions = input(\"Enter image dimensions with space bw : \").split(\" \")\n",
        "        self.fileSize = int(input(\"Enter file size (Kb) : \"))\n",
        "\n",
        "    def displayDetails(self):\n",
        "        print(f\"Creator : {self.creator} \\nDescription : {self.description} \\nImage Dimensions : {self.imgDimensions} \\nFile Size : {self.fileSize}\")\n",
        "\n",
        "    def checkDimensions(self):\n",
        "        if self.maxDimensions[0] < int(self.imgDimensions[0]) or self.maxDimensions[1] < int(self.imgDimensions[1]):\n",
        "            print(\"Image Dimensions is too high\")\n",
        "\n",
        "    def checkSize(self):\n",
        "        if self.fileSize > self.maxSize:\n",
        "            print(\"File size is beyond threshold\")\n",
        "\n",
        "class CMS(PDF, Pictures):\n",
        "    def _init_(self):\n",
        "        self.PDFlist = []\n",
        "        self.PicturesList = []\n",
        "    \n",
        "    def addPDF(self):\n",
        "        temp = PDF()\n",
        "        self.PDFlist.append(temp)\n",
        "\n",
        "    def addPictures(self):\n",
        "        temp = Pictures()\n",
        "        self.PicturesList.append(temp)\n",
        "\n",
        "    def displayDetails(self):\n",
        "        print(\"PDF details : \")\n",
        "        for element in self.PDFlist:\n",
        "            element.displayDetails()\n",
        "\n",
        "        print(\"Pictures Details : \")\n",
        "        for element in self.PicturesList:\n",
        "            element.displayDetails()\n",
        "\n",
        "    \n",
        "cms1 = CMS()\n",
        "cms1.addPDF()\n",
        "cms1.addPictures()\n",
        "cms1.addPDF()\n",
        "cms1.addPictures()\n",
        "cms1.displayDetails()\n",
        "cms1.PDFlist[1].checkSize()\n",
        "cms1.PicturesList[1].checkSize()\n",
        "cms1.PicturesList[1].checkDimensions()"
      ],
      "execution_count": 19,
      "outputs": [
        {
          "output_type": "error",
          "ename": "AttributeError",
          "evalue": "ignored",
          "traceback": [
            "\u001b[0;31m---------------------------------------------------------------------------\u001b[0m",
            "\u001b[0;31mAttributeError\u001b[0m                            Traceback (most recent call last)",
            "\u001b[0;32m<ipython-input-19-fdf1dc1867e4>\u001b[0m in \u001b[0;36m<module>\u001b[0;34m()\u001b[0m\n\u001b[1;32m     58\u001b[0m \u001b[0;34m\u001b[0m\u001b[0m\n\u001b[1;32m     59\u001b[0m \u001b[0mcms1\u001b[0m \u001b[0;34m=\u001b[0m \u001b[0mCMS\u001b[0m\u001b[0;34m(\u001b[0m\u001b[0;34m)\u001b[0m\u001b[0;34m\u001b[0m\u001b[0;34m\u001b[0m\u001b[0m\n\u001b[0;32m---> 60\u001b[0;31m \u001b[0mcms1\u001b[0m\u001b[0;34m.\u001b[0m\u001b[0maddPDF\u001b[0m\u001b[0;34m(\u001b[0m\u001b[0;34m)\u001b[0m\u001b[0;34m\u001b[0m\u001b[0;34m\u001b[0m\u001b[0m\n\u001b[0m\u001b[1;32m     61\u001b[0m \u001b[0mcms1\u001b[0m\u001b[0;34m.\u001b[0m\u001b[0maddPictures\u001b[0m\u001b[0;34m(\u001b[0m\u001b[0;34m)\u001b[0m\u001b[0;34m\u001b[0m\u001b[0;34m\u001b[0m\u001b[0m\n\u001b[1;32m     62\u001b[0m \u001b[0mcms1\u001b[0m\u001b[0;34m.\u001b[0m\u001b[0maddPDF\u001b[0m\u001b[0;34m(\u001b[0m\u001b[0;34m)\u001b[0m\u001b[0;34m\u001b[0m\u001b[0;34m\u001b[0m\u001b[0m\n",
            "\u001b[0;32m<ipython-input-19-fdf1dc1867e4>\u001b[0m in \u001b[0;36maddPDF\u001b[0;34m(self)\u001b[0m\n\u001b[1;32m     41\u001b[0m     \u001b[0;32mdef\u001b[0m \u001b[0maddPDF\u001b[0m\u001b[0;34m(\u001b[0m\u001b[0mself\u001b[0m\u001b[0;34m)\u001b[0m\u001b[0;34m:\u001b[0m\u001b[0;34m\u001b[0m\u001b[0;34m\u001b[0m\u001b[0m\n\u001b[1;32m     42\u001b[0m         \u001b[0mtemp\u001b[0m \u001b[0;34m=\u001b[0m \u001b[0mPDF\u001b[0m\u001b[0;34m(\u001b[0m\u001b[0;34m)\u001b[0m\u001b[0;34m\u001b[0m\u001b[0;34m\u001b[0m\u001b[0m\n\u001b[0;32m---> 43\u001b[0;31m         \u001b[0mself\u001b[0m\u001b[0;34m.\u001b[0m\u001b[0mPDFlist\u001b[0m\u001b[0;34m.\u001b[0m\u001b[0mappend\u001b[0m\u001b[0;34m(\u001b[0m\u001b[0mtemp\u001b[0m\u001b[0;34m)\u001b[0m\u001b[0;34m\u001b[0m\u001b[0;34m\u001b[0m\u001b[0m\n\u001b[0m\u001b[1;32m     44\u001b[0m \u001b[0;34m\u001b[0m\u001b[0m\n\u001b[1;32m     45\u001b[0m     \u001b[0;32mdef\u001b[0m \u001b[0maddPictures\u001b[0m\u001b[0;34m(\u001b[0m\u001b[0mself\u001b[0m\u001b[0;34m)\u001b[0m\u001b[0;34m:\u001b[0m\u001b[0;34m\u001b[0m\u001b[0;34m\u001b[0m\u001b[0m\n",
            "\u001b[0;31mAttributeError\u001b[0m: 'CMS' object has no attribute 'PDFlist'"
          ]
        }
      ]
    },
    {
      "cell_type": "code",
      "metadata": {
        "colab": {
          "base_uri": "https://localhost:8080/"
        },
        "id": "DCb6eh_uI6f_",
        "outputId": "1bf90da4-6658-47f5-94c7-9af77fed235f"
      },
      "source": [
        "#3rd Problem\n",
        "class Vehicle:\n",
        "    def __init__(self, name, mileage, capacity):\n",
        "        self.name = name\n",
        "        self.mileage = mileage\n",
        "        self.capacity = capacity\n",
        "\n",
        "    def fare(self):\n",
        "        return self.capacity * 100\n",
        "\n",
        "class Bus(Vehicle):\n",
        "    \n",
        "    def fare(self):\n",
        "        fare_car = self.capacity * 100 \n",
        "        total_fare = fare_car + (0.1 *fare_car)\n",
        "        return total_fare\n",
        "\n",
        "School_bus = Bus(\"School Volvo\", 12, 50)\n",
        "print(\"Total Bus fare is:\", School_bus.fare())"
      ],
      "execution_count": 4,
      "outputs": [
        {
          "output_type": "stream",
          "name": "stdout",
          "text": [
            "Total Bus fare is: 5500.0\n"
          ]
        }
      ]
    },
    {
      "cell_type": "code",
      "metadata": {
        "colab": {
          "base_uri": "https://localhost:8080/"
        },
        "id": "ay8PgJCPZQaY",
        "outputId": "a613d1b6-43f4-43c2-a847-8e167643e4c0"
      },
      "source": [
        "#2nd Problem\n",
        "class PDF():\n",
        "  def info(self):\n",
        "    self.creator = str(input('Creator: '))\n",
        "    self.description = str(input('description: '))\n",
        "    self.filesize = int(input('size: '))\n",
        "  def Checksize(self):\n",
        "    if self.filesize > 100:\n",
        "      print('size is exceeding limit')\n",
        "    else:\n",
        "      print('size is ok')\n",
        "  def Display(self):\n",
        "    print('creator: ',self.creator)\n",
        "    print('description: ',self.description)\n",
        "    print('filesize: ',self.filesize)\n",
        "\n",
        "class Pictures(PDF):\n",
        "  def info(self):\n",
        "    self.creator = str(input('Creator: '))\n",
        "    self.description = str(input('description: '))\n",
        "    self.filesize = int(input('size: '))\n",
        "    self.length = int(input('length: '))\n",
        "    self.breadth = int(input('breadth: '))\n",
        "  \n",
        "  def Display(self):\n",
        "    print('creator: ',self.creator)\n",
        "    print('description: ',self.description)\n",
        "    print('filesize: ',self.filesize)\n",
        "    print('length: ',self.length)\n",
        "    print('breadth: ',self.breadth)\n",
        "    \n",
        "  def Checkdimensions(self):\n",
        "    if 0 < self.length < 30:\n",
        "      print('length is ok')\n",
        "    else:\n",
        "      print('length is exceeding limit.')\n",
        "    if 0 < self.breadth < 30:\n",
        "      print('breadth is ok')\n",
        "    else:\n",
        "      print('breadth is exceeding limit')      \n",
        "F1 = PDF()\n",
        "F1.info()\n",
        "F1.Checksize()\n",
        "F1.Display()\n",
        "F2 = Pictures()\n",
        "F2.info()\n",
        "F2.Checksize()\n",
        "F2.Checkdimensions()\n",
        "F2.Display()"
      ],
      "execution_count": 21,
      "outputs": [
        {
          "output_type": "stream",
          "name": "stdout",
          "text": [
            "Creator: Sony\n",
            "description: OOP\n",
            "size: 54\n",
            "size is ok\n",
            "creator:  Sony\n",
            "description:  OOP\n",
            "filesize:  54\n",
            "Creator: Anil\n",
            "description: Picture\n",
            "size: 54\n",
            "length: 8\n",
            "breadth: 8\n",
            "size is ok\n",
            "length is ok\n",
            "breadth is ok\n",
            "creator:  Anil\n",
            "description:  Picture\n",
            "filesize:  54\n",
            "length:  8\n",
            "breadth:  8\n"
          ]
        }
      ]
    }
  ]
}
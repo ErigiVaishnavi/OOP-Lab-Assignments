{
  "nbformat": 4,
  "nbformat_minor": 0,
  "metadata": {
    "colab": {
      "name": "OOP-Lab Assignment-III",
      "provenance": [],
      "collapsed_sections": [],
      "authorship_tag": "ABX9TyMvdUtrAzNuvIFM3xCn15Tk",
      "include_colab_link": true
    },
    "kernelspec": {
      "display_name": "Python 3",
      "name": "python3"
    },
    "language_info": {
      "name": "python"
    }
  },
  "cells": [
    {
      "cell_type": "markdown",
      "metadata": {
        "id": "view-in-github",
        "colab_type": "text"
      },
      "source": [
        "<a href=\"https://colab.research.google.com/github/ErigiVaishnavi/OOP-Lab-Assignments/blob/main/E.Vaishnavi_20BCS044_OOPTask3.ipynb\" target=\"_parent\"><img src=\"https://colab.research.google.com/assets/colab-badge.svg\" alt=\"Open In Colab\"/></a>"
      ]
    },
    {
      "cell_type": "code",
      "metadata": {
        "colab": {
          "base_uri": "https://localhost:8080/"
        },
        "id": "MVDSkHwyTyq-",
        "outputId": "d7c090d9-26e4-4078-a807-6cd87daca3ad"
      },
      "source": [
        "#1st problem\n",
        "class Student:\n",
        "  def info(self):\n",
        "    self.name = str(input('Name: '))\n",
        "    self.reg_no = str(input('reg no: '))\n",
        "    self.age = int(input('age: '))\n",
        "    self.gender = str(input('gender: '))\n",
        "    self.branch = str(input('branch: '))\n",
        "    self.sem = int(input('sem: '))\n",
        "class StudentResultInfo(Student):\n",
        "  def Result(self):\n",
        "    self.total_marks = int(input('total marks: '))\n",
        "    self.percentage = int(input('percenntage: '))\n",
        "    self.grade = str(input('grade: '))\n",
        "  def DisplayInfo(self):\n",
        "    print('Name: ',self.name)\n",
        "    print('reg no: ',self.reg_no)\n",
        "    print('age: ',self.age)\n",
        "    print('gender: ',self.gender)\n",
        "    print('branch: ',self.branch)\n",
        "    print('sem: ',self.sem)\n",
        "  def DisplayResult(self):\n",
        "    print('Total Marks: ',self.total_marks)\n",
        "    print('percentage: ',self.percentage)\n",
        "    print('grade: ',self.grade)        \n",
        "    \n",
        "S1 = StudentResultInfo()\n",
        "S1.info() \n",
        "S1.Result() \n",
        "S1.DisplayInfo()\n",
        "S1.DisplayResult()"
      ],
      "execution_count": 17,
      "outputs": [
        {
          "output_type": "stream",
          "name": "stdout",
          "text": [
            "Name: Vaishnavi\n",
            "reg no: 44\n",
            "age: 18\n",
            "gender: female\n",
            "branch: cse\n",
            "sem: 3\n",
            "total marks: 100\n",
            "percenntage: 90\n",
            "grade: a\n",
            "Name:  Vaishnavi\n",
            "reg no:  44\n",
            "age:  18\n",
            "gender:  female\n",
            "branch:  cse\n",
            "sem:  3\n",
            "Total Marks:  100\n",
            "percentage:  90\n",
            "grade:  a\n"
          ]
        }
      ]
    },
    {
      "cell_type": "code",
      "metadata": {
        "colab": {
          "base_uri": "https://localhost:8080/"
        },
        "id": "ay8PgJCPZQaY",
        "outputId": "a613d1b6-43f4-43c2-a847-8e167643e4c0"
      },
      "source": [
        "#2nd Problem\n",
        "class PDF():\n",
        "  def info(self):\n",
        "    self.creator = str(input('Creator: '))\n",
        "    self.description = str(input('description: '))\n",
        "    self.filesize = int(input('size: '))\n",
        "  def Checksize(self):\n",
        "    if self.filesize > 100:\n",
        "      print('size is exceeding limit')\n",
        "    else:\n",
        "      print('size is ok')\n",
        "  def Display(self):\n",
        "    print('creator: ',self.creator)\n",
        "    print('description: ',self.description)\n",
        "    print('filesize: ',self.filesize)\n",
        "\n",
        "class Pictures(PDF):\n",
        "  def info(self):\n",
        "    self.creator = str(input('Creator: '))\n",
        "    self.description = str(input('description: '))\n",
        "    self.filesize = int(input('size: '))\n",
        "    self.length = int(input('length: '))\n",
        "    self.breadth = int(input('breadth: '))\n",
        "  \n",
        "  def Display(self):\n",
        "    print('creator: ',self.creator)\n",
        "    print('description: ',self.description)\n",
        "    print('filesize: ',self.filesize)\n",
        "    print('length: ',self.length)\n",
        "    print('breadth: ',self.breadth)\n",
        "    \n",
        "  def Checkdimensions(self):\n",
        "    if 0 < self.length < 30:\n",
        "      print('length is ok')\n",
        "    else:\n",
        "      print('length is exceeding limit.')\n",
        "    if 0 < self.breadth < 30:\n",
        "      print('breadth is ok')\n",
        "    else:\n",
        "      print('breadth is exceeding limit')      \n",
        "F1 = PDF()\n",
        "F1.info()\n",
        "F1.Checksize()\n",
        "F1.Display()\n",
        "F2 = Pictures()\n",
        "F2.info()\n",
        "F2.Checksize()\n",
        "F2.Checkdimensions()\n",
        "F2.Display()"
      ],
      "execution_count": 21,
      "outputs": [
        {
          "output_type": "stream",
          "name": "stdout",
          "text": [
            "Creator: Sony\n",
            "description: OOP\n",
            "size: 54\n",
            "size is ok\n",
            "creator:  Sony\n",
            "description:  OOP\n",
            "filesize:  54\n",
            "Creator: Anil\n",
            "description: Picture\n",
            "size: 54\n",
            "length: 8\n",
            "breadth: 8\n",
            "size is ok\n",
            "length is ok\n",
            "breadth is ok\n",
            "creator:  Anil\n",
            "description:  Picture\n",
            "filesize:  54\n",
            "length:  8\n",
            "breadth:  8\n"
          ]
        }
      ]
    },
    {
      "cell_type": "code",
      "metadata": {
        "colab": {
          "base_uri": "https://localhost:8080/"
        },
        "id": "DCb6eh_uI6f_",
        "outputId": "1bf90da4-6658-47f5-94c7-9af77fed235f"
      },
      "source": [
        "#3rd Problem\n",
        "class Vehicle:\n",
        "    def __init__(self, name, mileage, capacity):\n",
        "        self.name = name\n",
        "        self.mileage = mileage\n",
        "        self.capacity = capacity\n",
        "\n",
        "    def fare(self):\n",
        "        return self.capacity * 100\n",
        "\n",
        "class Bus(Vehicle):\n",
        "    \n",
        "    def fare(self):\n",
        "        fare_car = self.capacity * 100 \n",
        "        total_fare = fare_car + (0.1 *fare_car)\n",
        "        return total_fare\n",
        "\n",
        "School_bus = Bus(\"School Volvo\", 12, 50)\n",
        "print(\"Total Bus fare is:\", School_bus.fare())"
      ],
      "execution_count": 4,
      "outputs": [
        {
          "output_type": "stream",
          "name": "stdout",
          "text": [
            "Total Bus fare is: 5500.0\n"
          ]
        }
      ]
    }
  ]
}
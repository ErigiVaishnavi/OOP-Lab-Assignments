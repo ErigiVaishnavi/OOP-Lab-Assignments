{
  "nbformat": 4,
  "nbformat_minor": 0,
  "metadata": {
    "colab": {
      "name": "E.Vaishnavi_20BCS044_OOPTask-05",
      "provenance": [],
      "authorship_tag": "ABX9TyNg37z78VqbxjOxl0D7toUv",
      "include_colab_link": true
    },
    "kernelspec": {
      "name": "python3",
      "display_name": "Python 3"
    },
    "language_info": {
      "name": "python"
    }
  },
  "cells": [
    {
      "cell_type": "markdown",
      "metadata": {
        "id": "view-in-github",
        "colab_type": "text"
      },
      "source": [
        "<a href=\"https://colab.research.google.com/github/ErigiVaishnavi/OOP-Lab-Assignments/blob/main/E_Vaishnavi_20BCS044_OOPTask_05.ipynb\" target=\"_parent\"><img src=\"https://colab.research.google.com/assets/colab-badge.svg\" alt=\"Open In Colab\"/></a>"
      ]
    },
    {
      "cell_type": "code",
      "metadata": {
        "colab": {
          "base_uri": "https://localhost:8080/"
        },
        "id": "3RfEpzRKo-CW",
        "outputId": "e21a6cb6-55f6-4e51-f012-b90c20c037e8"
      },
      "source": [
        "# 1st Problem\n",
        "from abc import ABC, abstractmethod \n",
        "class Shape:\n",
        "  #def __init__ (self, shape):\n",
        "  #  self.shape = shape\n",
        "\n",
        "  def area(self) :\n",
        "    pass\n",
        "\n",
        "\n",
        "#Square\n",
        "class Square(Shape):\n",
        "  def __init__ (self, side):\n",
        "    super().__init__()\n",
        "    self.side = side\n",
        "  \n",
        "  def area(self) :\n",
        "    return self.side * self.side\n",
        "    pass     \n",
        "\n",
        "#Circle\n",
        "class Circle(Shape):\n",
        "  pi = 3.14\n",
        "  def __init__ (self, radius):\n",
        "    super().__init__()\n",
        "    self.radius = radius\n",
        "\n",
        "  def area(self) :\n",
        "    return round(Circle.pi * (self.radius ** 2), 2)\n",
        "    pass  \n",
        "\n",
        "#Rectangle\n",
        "class Rectangle(Shape):\n",
        "  def __init__ (self, length, breadth):\n",
        "    super().__init__()\n",
        "    self.length = length\n",
        "    self.breadth = breadth\n",
        " \n",
        "  def area(self) :\n",
        "    return self.length * self.breadth\n",
        "    pass      \n",
        "\n",
        "\n",
        "r1 = Rectangle (30, 15)\n",
        "print(\"Area of rectangle r1:\", r1.area())\n",
        "\n",
        "c1 = Circle(12)\n",
        "print(\"Area of circle c1:\", format(c1.area(), \"0.2f\"))\n",
        "\n",
        "s1 = Square (6) \n",
        "print(\"Area of square s1:\", s1.area())\n"
      ],
      "execution_count": 91,
      "outputs": [
        {
          "output_type": "stream",
          "name": "stdout",
          "text": [
            "Area of rectangle r1: 450\n",
            "Area of circle c1: 452.16\n",
            "Area of square s1: 36\n"
          ]
        }
      ]
    },
    {
      "cell_type": "code",
      "metadata": {
        "colab": {
          "base_uri": "https://localhost:8080/"
        },
        "id": "XNs0WxQ1azn6",
        "outputId": "eab36241-7adc-4052-beac-00a7ab1f44aa"
      },
      "source": [
        "# 2nd Problem\n",
        "class Travel:\n",
        "\n",
        "  def __init__(self, travel):\n",
        "    self.travel = travel\n",
        "\n",
        "  @property                 #decorator\n",
        "  def __number_of_passangers(self):\n",
        "    pass\n",
        "\n",
        "  def distance(self):\n",
        "    pass\n",
        "\n",
        "  def mode(self):\n",
        "    pass\n",
        "\n",
        "class train(Travel):\n",
        "\n",
        "  def __init__(self, total_passangers):\n",
        "    self.total_passangers = total_passangers\n",
        "\n",
        "  def cost_of_transport(self):\n",
        "    print(self.total_passangers*60)\n",
        "\n",
        "class bus(Travel):\n",
        "\n",
        "  def __init__(self, total_passangers):\n",
        "    self.total_passangers = total_passangers\n",
        "\n",
        "  def cost_of_transport(self):\n",
        "    print(self.total_passangers*100)\n",
        "\n",
        "mode1 = train(1056)\n",
        "print(\"The cost of trip by train: \")\n",
        "mode1.cost_of_transport()\n",
        "\n",
        "mode2 = bus(60)\n",
        "print(\"The cost of trip by bus: \")\n",
        "mode2.cost_of_transport()"
      ],
      "execution_count": 90,
      "outputs": [
        {
          "output_type": "stream",
          "name": "stdout",
          "text": [
            "The cost of trip by train: \n",
            "63360\n",
            "The cost of trip by bus: \n",
            "6000\n"
          ]
        }
      ]
    },
    {
      "cell_type": "code",
      "metadata": {
        "colab": {
          "base_uri": "https://localhost:8080/"
        },
        "id": "bVguyXrMTbRF",
        "outputId": "8ba31fa1-26a2-4680-90ce-b302c47923ab"
      },
      "source": [
        "# 3rd Problem\n",
        "class car:\n",
        "  def __init__(self,carnumber):\n",
        "    self.carnumber=carnumber\n",
        "c1=car(9909)\n",
        "c2=car(1908)\n",
        "print(\"The Model number of c1 is \",c1.carnumber)\n",
        "print(\"The Model number of c2 is \",c2.carnumber)\n",
        "\n",
        "def carnumswap():\n",
        "  c1.carnumber,c2.carnumber=c2.carnumber,c1.carnumber\n",
        "  print(\"The Model number of c1 is \",c1.carnumber)\n",
        "  print(\"The Model number of c2 is \",c2.carnumber)\n",
        "print(\"After swapping the values\")\n",
        "carnumswap()"
      ],
      "execution_count": 89,
      "outputs": [
        {
          "output_type": "stream",
          "name": "stdout",
          "text": [
            "The Model number of c1 is  9909\n",
            "The Model number of c2 is  1908\n",
            "After swapping the values\n",
            "The Model number of c1 is  1908\n",
            "The Model number of c2 is  9909\n"
          ]
        }
      ]
    }
  ]
}